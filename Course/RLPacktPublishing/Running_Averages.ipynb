{
 "cells": [
  {
   "attachments": {},
   "cell_type": "markdown",
   "metadata": {},
   "source": [
    "# Running Averages: \n",
    "Averages can be expressed by dividing the sum of the numbers by the the amount of numbers or Sum of Moving Averages (SMA):\n",
    "$$ SMA = {\\Sigma _ {n}  a _ {1} + a _ {2} + \\ldots  a _ {n} \\over n} $$"
   ]
  },
  {
   "cell_type": "code",
   "execution_count": 11,
   "metadata": {},
   "outputs": [],
   "source": [
    "import numpy as np\n",
    "np.random.seed(16) #set sed for random number\n",
    "n = 100\n",
    "a = np.random.rand (n) \n"
   ]
  },
  {
   "cell_type": "code",
   "execution_count": 3,
   "metadata": {},
   "outputs": [],
   "source": [
    "def newAverage(scores,  newScore=None):\n",
    "    total = 0\n",
    "    if not newScore == None:\n",
    "        scores = np.append(scores, newScore)\n",
    "    for num in scores:\n",
    "        total += num\n",
    "    sma = total / len(scores)\n",
    "    return sma"
   ]
  },
  {
   "cell_type": "code",
   "execution_count": 4,
   "metadata": {},
   "outputs": [
    {
     "name": "stdout",
     "output_type": "stream",
     "text": [
      "0.37903609181808556\n"
     ]
    }
   ],
   "source": [
    "average = newAverage(a)\n",
    "\n",
    "print (average)"
   ]
  },
  {
   "attachments": {},
   "cell_type": "markdown",
   "metadata": {},
   "source": [
    "### We can also use another equation: \n",
    "$$ SMA = {\\hat{x} _{t-1} + {1 \\over t} (x _ {t} - \\hat{x} _{t-1})} $$\n",
    "this is the same equation if we changed the orgininal: \n",
    "for example a 3 number is added to a rolling 2 number average: \n",
    "$$ \\hat {x}_3 = { x_1+x_2 + x_3 \\over 3} $$\n",
    "$$ \\hat {x}_3 = {2 {(x_1+x_2) \\over 2}  + x_3 \\over 3} $$\n",
    "the previous average is:\n",
    "$$\\hat {x}_2 = {(x_1+x_2) \\over 2} $$\n",
    "combined: \n",
    "$$\\hat {x}_3 = {2 \\hat {x}_2 + x_3 \\over 3} $$\n",
    "Or any number using if we changed the \"2\":\n",
    "$$\\hat {x}_n = {(n-1) \\hat {x}_{n-1} + x_n \\over n} $$\n",
    "we could multiple the first term:\n",
    "$$\\hat {x}_n = {{n\\hat {x}_{n-1}  - \\hat {x}_{n-1} + x_n \\over n}} $$\n",
    "$$\\hat {x}_n = {{n\\hat {x}_{n-1} \\over n} - {\\hat {x}_{n-1} + x_n \\over n}} $$\n",
    "reduce:\n",
    "$$\\hat {x}_n = {{\\hat {x}_{n-1}} - {\\hat {x}_{n-1} + x_n \\over n}} $$\n",
    "$$\\hat {x}_n = {{\\hat {x}_{n-1}} - { 1\\over n}(\\hat {x}_{n-1} + x_n)} $$\n",
    "Change signs:\n",
    "$$\\hat {x}_n = {{\\hat {x}_{n-1}} + { 1\\over n}( x_n-\\hat {x}_{n-1} )} $$"
   ]
  },
  {
   "cell_type": "code",
   "execution_count": 5,
   "metadata": {},
   "outputs": [],
   "source": [
    "def rollingAverage(Oaverage, instan, newScore):\n",
    "    if instan < 1:\n",
    "        return Oaverage + (instan)*(newScore-Oaverage)\n",
    "    return Oaverage + (1/(instan+1))*(newScore-Oaverage)\n"
   ]
  },
  {
   "attachments": {},
   "cell_type": "markdown",
   "metadata": {},
   "source": [
    "Lets try adding a number"
   ]
  },
  {
   "cell_type": "code",
   "execution_count": 13,
   "metadata": {},
   "outputs": [
    {
     "name": "stdout",
     "output_type": "stream",
     "text": [
      "0.4836247669917228\n",
      "0.6103715319525483\n"
     ]
    }
   ],
   "source": [
    "Raverage = rollingAverage (average, 0.009, 12)\n",
    "Aaverage = newAverage(a, 12)\n",
    "print (Raverage)\n",
    "print (Aaverage)\n",
    "\n"
   ]
  },
  {
   "cell_type": "code",
   "execution_count": 48,
   "metadata": {},
   "outputs": [
    {
     "name": "stdout",
     "output_type": "stream",
     "text": [
      "2\n"
     ]
    }
   ],
   "source": [
    "# Creating variable for storing the random integer\n",
    "res = np.random.randint(10)\n",
    "print(res)\n"
   ]
  },
  {
   "attachments": {},
   "cell_type": "markdown",
   "metadata": {},
   "source": [
    "Lets see the speed difference:"
   ]
  },
  {
   "cell_type": "code",
   "execution_count": 89,
   "metadata": {},
   "outputs": [
    {
     "name": "stdout",
     "output_type": "stream",
     "text": [
      "0.2448383000009926\n"
     ]
    }
   ],
   "source": [
    "\n",
    "if __name__=='__main__':\n",
    "    from timeit import Timer\n",
    "    NA = Timer(lambda: newAverage (a, np.random.randint(10)))\n",
    "    print(NA.timeit(number=10000))\n"
   ]
  },
  {
   "cell_type": "code",
   "execution_count": 92,
   "metadata": {},
   "outputs": [
    {
     "name": "stdout",
     "output_type": "stream",
     "text": [
      "0.008506900005158968\n"
     ]
    }
   ],
   "source": [
    "if __name__=='__main__':\n",
    "    from timeit import Timer\n",
    "    RA = Timer(lambda: rollingAverage (average, n, np.random.randint(10)))\n",
    "    print(RA.timeit(number=1000))"
   ]
  }
 ],
 "metadata": {
  "kernelspec": {
   "display_name": ".venv",
   "language": "python",
   "name": "python3"
  },
  "language_info": {
   "codemirror_mode": {
    "name": "ipython",
    "version": 3
   },
   "file_extension": ".py",
   "mimetype": "text/x-python",
   "name": "python",
   "nbconvert_exporter": "python",
   "pygments_lexer": "ipython3",
   "version": "3.10.4 (tags/v3.10.4:9d38120, Mar 23 2022, 23:13:41) [MSC v.1929 64 bit (AMD64)]"
  },
  "orig_nbformat": 4,
  "vscode": {
   "interpreter": {
    "hash": "a350d8d21ffb90d17bcf02bc3212a3330f6be005e495f54e618b0bdcf6a5456b"
   }
  }
 },
 "nbformat": 4,
 "nbformat_minor": 2
}
