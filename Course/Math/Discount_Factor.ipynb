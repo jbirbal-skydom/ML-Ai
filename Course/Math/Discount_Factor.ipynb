{
 "cells": [
  {
   "cell_type": "markdown",
   "metadata": {
    "pycharm": {
     "name": "#%% md\n"
    }
   },
   "source": [
    "# Discount Factor"
   ]
  },
  {
   "cell_type": "markdown",
   "metadata": {
    "pycharm": {
     "name": "#%% md\n"
    }
   },
   "source": [
    "Discount factor is can be the immediate reward vs the distant reward. and can be designated by gamma:\n",
    "$${ \\Huge \\gamma } $$\n",
    "\n",
    "In a reinforcement learning, task could be episodic or continuous.\n",
    "- Episodic has an ending, finite number of states. After wining we could do a type of backpropagation using a learning algorithm. E.G. epsilon-greedy ->  sum of rewards:\n",
    "  $$\\hat {x}_n = {{\\hat {x}_{n-1}} + { 1\\over n}( x_n-\\hat {x}_{n-1} )} $$\n",
    "- Continuous we don't have and end, so we have to use a learning algorithm that consistently looks for the best action. We will use a discount method:\n",
    "  $$ {G}_t = {R}_{t+1}+ {\\gamma R}_{t+2}+ {\\gamma^2 R}_{t+3}+ {\\dots} $$\n",
    "  $$ {G}_t = {\\gamma^0 R}_{(t+1)+0}+ {\\gamma^1 R}_{(t+1)+1}+ {\\gamma^2 R}_{(t+1)+2)}+ {\\gamma^k R}_{(t+1)+k} +{\\dots} $$\n",
    "\n",
    "  if you pull the gamma out it becomes a and write it as sigma notation:\n",
    "\n",
    "  $$ {G}_t = \\sum_{k=0}^{\\infty} {\\gamma ^ k}{R}_{t+1+k} $$\n",
    "  $$  0 < \\gamma < 1 $$\n"
   ]
  },
  {
   "cell_type": "markdown",
   "metadata": {
    "pycharm": {
     "name": "#%% md\n"
    }
   },
   "source": [
    "#### How do we calculate infinity?\n",
    "\n",
    "Taylor sequence to determine the answer:\n",
    "$$ 1+x+x^2+x^3 = \\sum_{n=0}^{\\infty}x^n = {1\\over(1-x)} $$\n",
    "\n",
    "if reward ($ R = 1$ ) we can use\n",
    "$$ \\sum_{k=0}^{\\infty}\\gamma^k = {1\\over(1-\\gamma)} $$\n",
    "\n",
    "\n",
    "##### How is thi useful if $ R \\neq 1$?\n",
    "i we rearrange the original equation by pulling put the $\\gamma$:\n",
    " $$ {G}_t = {R}_{t+1}+ {\\gamma R}_{t+2}+ {\\gamma^2 R}_{t+3}+ {\\dots} $$\n",
    "  $$ {G}_t = {R}_{t+1}+ \\gamma{({R}_{(t+1)+1}+ {\\gamma^2 R}_{(t+2)+1}+ {\\dots})}$$\n",
    "$$ {G}_t = {R}_{t+1}+ {\\gamma G}_{t+1} $$"
   ]
  },
  {
   "cell_type": "markdown",
   "metadata": {
    "pycharm": {
     "name": "#%% md\n"
    }
   },
   "source": [
    "##### Taylor Series\n",
    "$$ \\sum_{n=0}^{\\infty}x^n = {1\\over(1-x)} $$\n",
    "\n",
    "$$ x- {{x^3}\\over{3!}} + {{x^5}\\over{5!}} - \\dots  = \\sum_{n=0}^{\\infty}{{(-1)^n}\\over{(2n+1)!}}x^{(2n+1)} = \\sin x $$\n",
    "\n"
   ]
  },
  {
   "cell_type": "code",
   "execution_count": 26,
   "metadata": {
    "pycharm": {
     "name": "#%%\n"
    }
   },
   "outputs": [
    {
     "data": {
      "text/plain": "<Figure size 640x480 with 1 Axes>",
      "image/png": "[encoded data removed]"
     },
     "metadata": {},
     "output_type": "display_data"
    }
   ],
   "source": [
    "import matplotlib.pyplot as plt\n",
    "import math\n",
    "import numpy as np\n",
    "\n",
    "# 100 linearly spaced numbers\n",
    "x = np.linspace(-4,4,100)\n",
    "te = []\n",
    "\n",
    "# the function, which is y = sin(x) here\n",
    "sn = np.sin(x)\n",
    "\n",
    "y2 = x - x**3/6 + x**5/math.factorial(5) # - x**7/math.factorial(7)\n",
    "\n",
    "# the function, which is taylor expansion here\n",
    "for n, v in enumerate(x):\n",
    "    top = (-1)**n\n",
    "    bot = math.factorial((2*n)+1)\n",
    "    term = (v**((2*n)+1))\n",
    "    te.append((top/bot)*term)\n",
    "\n",
    "\n",
    "\n",
    "# setting the axes at the centre\n",
    "fig = plt.figure()\n",
    "ax = fig.add_subplot(1, 1, 1)\n",
    "ax.spines['left'].set_position('center')\n",
    "ax.spines['bottom'].set_position('center')\n",
    "ax.spines['right'].set_color('none')\n",
    "ax.spines['top'].set_color('none')\n",
    "ax.xaxis.set_ticks_position('bottom')\n",
    "ax.yaxis.set_ticks_position('left')\n",
    "\n",
    "#plot function\n",
    "plt.plot(x[4:], te[4:], '+', label=\"te\")\n",
    "plt.plot(x, sn, '*', label=\"sn\")\n",
    "plt.plot(x, y2, 's', label=\"sn\", alpha=0.2)\n",
    "\n",
    "plt.show()\n"
   ]
  },
  {
   "cell_type": "markdown",
   "metadata": {
    "pycharm": {
     "name": "#%% md\n"
    }
   },
   "source": [
    "## Gamma\n",
    "When $\\gamma$ is 0 then the reward is myopic\n",
    "\n",
    "When $\\gamma$ is 1 is future oriented\n",
    "\n",
    "$ 1^k = 1 $ where $ 0^k |_{k>0} = 0$"
   ]
  },
  {
   "cell_type": "code",
   "execution_count": null,
   "metadata": {
    "collapsed": true,
    "pycharm": {
     "name": "#%%\n"
    }
   },
   "outputs": [],
   "source": []
  },
  {
   "cell_type": "markdown",
   "metadata": {
    "pycharm": {
     "name": "#%% md\n"
    }
   },
   "source": [
    "Reference:\n",
    "[Latex](https://en.wikibooks.org/wiki/LaTeX/Mathematics)\n",
    "[Taylor Series](https://people.math.sc.edu/girardi/m142/handouts/10sTaylorPolySeries.pdf)\n",
    "[Taylor Series explained](https://www.mathsisfun.com/algebra/taylor-series.html)\n"
   ]
  }
 ],
 "metadata": {
  "kernelspec": {
   "display_name": "Python 3 (ipykernel)",
   "language": "python",
   "name": "python3"
  },
  "language_info": {
   "codemirror_mode": {
    "name": "ipython",
    "version": 3
   },
   "file_extension": ".py",
   "mimetype": "text/x-python",
   "name": "python",
   "nbconvert_exporter": "python",
   "pygments_lexer": "ipython3",
   "version": "3.10.4"
  }
 },
 "nbformat": 4,
 "nbformat_minor": 1
}